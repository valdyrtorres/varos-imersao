{
 "cells": [
  {
   "cell_type": "markdown",
   "id": "d5355376-7a59-4154-a82d-6405d0156e89",
   "metadata": {},
   "source": [
    "# Projeto 1: Report de mercado\n",
    "\n",
    "### Desafio:\n",
    "\n",
    "* Automação de um relatório de fechamento de mercado com o Python através da coleta de cotações históricas do Ibovespa e Dólar e do envio diário através de uma ferramenta de e-mail automaticamente.  \n",
    "\n",
    "### Passo a passo:\n",
    "\n",
    "*   **Passo 1** - Instalar e importar os módulos e bibliotecas.\n",
    "   \n",
    "   \n",
    "*   **Passo 2** - Pegar as cotações históricas.\n",
    "   \n",
    "   \n",
    "*   **Passo 3** - Tratar dados coletados.\n",
    "   \n",
    "   \n",
    "*   **Passo 4** - Criar gráficos de performance.\n",
    "   \n",
    "   \n",
    "*   **Passo 5** - Calcular retornos diários.\n",
    "   \n",
    "   \n",
    "*   **Passo 6** - Configurar e enviar o e-mail.\n",
    "\n",
    "# Dúvidas no meu INSTAGRAM @BRENNO.VAROS\n",
    "   \n",
    "-------------------"
   ]
  },
  {
   "cell_type": "markdown",
   "id": "ef8505e8-178d-4615-b4f0-b498d9fb298e",
   "metadata": {},
   "source": [
    "# Passo 1 - Instalar e importar os módulos e bibliotecas."
   ]
  },
  {
   "cell_type": "code",
   "execution_count": null,
   "id": "5bce580f-1e45-4b2b-b338-44199391a734",
   "metadata": {},
   "outputs": [],
   "source": [
    "!pip install mplcyberpunk"
   ]
  },
  {
   "cell_type": "code",
   "execution_count": null,
   "id": "0ebd28b2-c49a-4a00-9e78-392b3f83eb39",
   "metadata": {},
   "outputs": [],
   "source": [
    "!pip install yfinance"
   ]
  },
  {
   "cell_type": "code",
   "execution_count": null,
   "id": "92711384-2dfa-43e4-ba09-1c25623e7b56",
   "metadata": {},
   "outputs": [],
   "source": [
    "import yfinance as yf\n",
    "import pandas as pd\n",
    "import matplotlib.pyplot as plt\n",
    "import mplcyberpunk"
   ]
  },
  {
   "cell_type": "markdown",
   "id": "c41ae13e-6948-4e4e-8543-572828ab6a3c",
   "metadata": {},
   "source": [
    "# Passo 2 - Pegar as cotações históricas"
   ]
  },
  {
   "cell_type": "code",
   "execution_count": null,
   "id": "969005bd-2d4b-4c66-8b0e-26f6cf409ee4",
   "metadata": {},
   "outputs": [],
   "source": [
    "tickers = [\"^BVSP\", \"^GSPC\", \"BRL=X\"]"
   ]
  },
  {
   "cell_type": "code",
   "execution_count": null,
   "id": "ec3416d6-5ed8-496c-a568-c2858069aef7",
   "metadata": {},
   "outputs": [],
   "source": [
    "dados_mercado = yf.download(tickers, period = \"6mo\")\n",
    "dados_mercado = dados_mercado[\"Adj Close\"]\n",
    "dados_mercado"
   ]
  },
  {
   "cell_type": "markdown",
   "id": "e76d0dd9-84dc-4f76-8273-5c5cd9c63166",
   "metadata": {},
   "source": [
    "# Passo 3 - Tratar dados coletados."
   ]
  },
  {
   "cell_type": "code",
   "execution_count": null,
   "id": "a61ba6f9-f42f-44b5-80e3-9d414fe5fa8d",
   "metadata": {},
   "outputs": [],
   "source": [
    "dados_mercado = dados_mercado.dropna()\n",
    "\n",
    "dados_mercado"
   ]
  },
  {
   "cell_type": "code",
   "execution_count": null,
   "id": "d10d22d9-105d-4c87-9d5d-d53b229c0de3",
   "metadata": {},
   "outputs": [],
   "source": [
    "dados_mercado.columns = [\"DOLAR\", \"IBOVESPA\", \"S&P500\"]\n",
    "\n",
    "dados_mercado"
   ]
  },
  {
   "cell_type": "markdown",
   "id": "0e4b7ce7-589c-49c5-997d-9b1567cb3db5",
   "metadata": {},
   "source": [
    "# Passo 4 - Criar gráficos de performance."
   ]
  },
  {
   "cell_type": "code",
   "execution_count": null,
   "id": "60aff313-089a-425f-b328-e71bd745313f",
   "metadata": {},
   "outputs": [],
   "source": [
    "plt.style.use(\"cyberpunk\")"
   ]
  },
  {
   "cell_type": "code",
   "execution_count": null,
   "id": "a17d5a37-b138-433d-b28a-06046e0c2386",
   "metadata": {},
   "outputs": [],
   "source": [
    "plt.plot(dados_mercado[\"IBOVESPA\"])\n",
    "plt.title(\"IBOVESPA\")\n",
    "\n",
    "plt.savefig(\"ibovespa.png\")"
   ]
  },
  {
   "cell_type": "code",
   "execution_count": null,
   "id": "53b97690-e9e4-46aa-a6e5-9e25e76ee956",
   "metadata": {},
   "outputs": [],
   "source": [
    "plt.plot(dados_mercado[\"DOLAR\"])\n",
    "plt.title(\"DOLAR\")\n",
    "\n",
    "plt.savefig(\"dolar.png\")"
   ]
  },
  {
   "cell_type": "code",
   "execution_count": null,
   "id": "0c83e074-14e0-478f-9832-0f7fb575c763",
   "metadata": {},
   "outputs": [],
   "source": [
    "plt.plot(dados_mercado[\"S&P500\"])\n",
    "plt.title(\"S&P500\")\n",
    "\n",
    "plt.savefig(\"sp500.png\")"
   ]
  },
  {
   "cell_type": "markdown",
   "id": "79f9baa1-bb6f-4b71-a421-c8f7d9790e21",
   "metadata": {},
   "source": [
    "# Passo 5 - Calcular retornos diários."
   ]
  },
  {
   "cell_type": "code",
   "execution_count": null,
   "id": "a7f47c8d-589c-4063-ad99-885c9fa38898",
   "metadata": {},
   "outputs": [],
   "source": [
    "retornos_diarios = dados_mercado.pct_change()\n",
    "\n",
    "retornos_diarios"
   ]
  },
  {
   "cell_type": "code",
   "execution_count": null,
   "id": "1330a1c4-7f36-443e-b920-cb6d7d905855",
   "metadata": {},
   "outputs": [],
   "source": [
    "retornos_diarios[\"DOLAR\"].iloc[-3]"
   ]
  },
  {
   "cell_type": "code",
   "execution_count": null,
   "id": "a4813b92-7d96-4262-9450-350b54be8e94",
   "metadata": {},
   "outputs": [],
   "source": [
    "retorno_dolar = retornos_diarios[\"DOLAR\"].iloc[-1]\n",
    "retorno_ibovespa = retornos_diarios[\"IBOVESPA\"].iloc[-1]\n",
    "retorno_sp = retornos_diarios[\"S&P500\"].iloc[-1]"
   ]
  },
  {
   "cell_type": "code",
   "execution_count": null,
   "id": "214a25de-dbc9-496c-967b-6000efc70cd7",
   "metadata": {},
   "outputs": [],
   "source": [
    "retorno_dolar = str(round(retorno_dolar * 100, 2)) + \"%\"\n",
    "\n",
    "retorno_dolar"
   ]
  },
  {
   "cell_type": "code",
   "execution_count": null,
   "id": "55c68e0f-6c01-4903-961e-19708153d002",
   "metadata": {},
   "outputs": [],
   "source": [
    "retorno_ibovespa = str(round(retorno_ibovespa * 100, 2)) + \"%\"\n",
    "retorno_sp = str(round(retorno_sp * 100, 2)) + \"%\"\n",
    "\n",
    "retorno_sp"
   ]
  },
  {
   "cell_type": "code",
   "execution_count": null,
   "id": "823a8bdd-eb15-4949-91ae-74c579ac74c3",
   "metadata": {},
   "outputs": [],
   "source": [
    "retorno_ibovespa"
   ]
  },
  {
   "cell_type": "markdown",
   "id": "efda1f6d-41c4-4f9d-9886-88e9533604cb",
   "metadata": {},
   "source": [
    "# Passo 6 - Configurar e enviar o e-mail"
   ]
  },
  {
   "cell_type": "code",
   "execution_count": null,
   "id": "7539ad87-b1b9-465f-ac99-851632800b36",
   "metadata": {},
   "outputs": [],
   "source": [
    "!pip install pywin32"
   ]
  },
  {
   "cell_type": "code",
   "execution_count": null,
   "id": "3e60a693-7395-4162-974b-020c8cc36cc9",
   "metadata": {},
   "outputs": [],
   "source": [
    "import win32com.client as win32"
   ]
  },
  {
   "cell_type": "code",
   "execution_count": null,
   "id": "03d6d120-3214-4638-b67f-759938b2ca20",
   "metadata": {},
   "outputs": [],
   "source": [
    "outlook = win32.Dispatch(\"outlook.application\") \n",
    "\n",
    "email = outlook.CreateItem(0)"
   ]
  },
  {
   "cell_type": "code",
   "execution_count": null,
   "id": "81b7b945-5c1d-4904-99b0-4856183ed571",
   "metadata": {},
   "outputs": [],
   "source": [
    "email.To = \"evento@varos.com.br\"\n",
    "email.Subject = \"Relatório de Mercado\"\n",
    "email.Body = f'''Prezado diretor, segue o relatório de mercado:\n",
    "\n",
    "* O Ibovespa teve o retorno de {retorno_ibovespa}.\n",
    "* O Dólar teve o retorno de {retorno_dolar}.\n",
    "* O S&P500 teve o retorno de {retorno_sp}.\n",
    "\n",
    "Segue em anexo a peformance dos ativos nos últimos 6 meses.\n",
    "\n",
    "Att,\n",
    "Melhor estagiário do mundo\n",
    "\n",
    "\n",
    "'''\n",
    "\n",
    "anexo_ibovespa = r\"C:\\Users\\VAROS\\Downloads\\ibovespa.png\"\n",
    "anexo_dolar = r\"C:\\Users\\VAROS\\Downloads\\dolar.png\"\n",
    "anexo_sp = r\"C:\\Users\\VAROS\\Downloads\\sp500.png\"\n",
    "\n",
    "email.Attachments.Add(anexo_ibovespa)\n",
    "email.Attachments.Add(anexo_dolar)\n",
    "email.Attachments.Add(anexo_sp)\n",
    "\n",
    "email.Send()\n"
   ]
  },
  {
   "cell_type": "code",
   "execution_count": null,
   "id": "68876d20-8ef8-4c46-8d40-47a09ac97d14",
   "metadata": {},
   "outputs": [],
   "source": []
  },
  {
   "cell_type": "code",
   "execution_count": null,
   "id": "0ee49818-a025-4376-aa35-0fd8f01ab89b",
   "metadata": {},
   "outputs": [],
   "source": []
  },
  {
   "cell_type": "code",
   "execution_count": null,
   "id": "e769424a-4a24-46db-9c1a-3c32980004d6",
   "metadata": {},
   "outputs": [],
   "source": []
  }
 ],
 "metadata": {
  "kernelspec": {
   "display_name": "Python 3 (ipykernel)",
   "language": "python",
   "name": "python3"
  },
  "language_info": {
   "codemirror_mode": {
    "name": "ipython",
    "version": 3
   },
   "file_extension": ".py",
   "mimetype": "text/x-python",
   "name": "python",
   "nbconvert_exporter": "python",
   "pygments_lexer": "ipython3",
   "version": "3.11.7"
  },
  "widgets": {
   "application/vnd.jupyter.widget-state+json": {
    "state": {},
    "version_major": 2,
    "version_minor": 0
   }
  }
 },
 "nbformat": 4,
 "nbformat_minor": 5
}
