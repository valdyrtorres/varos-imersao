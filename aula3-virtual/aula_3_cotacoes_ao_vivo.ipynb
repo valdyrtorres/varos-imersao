{
 "cells": [
  {
   "cell_type": "markdown",
   "id": "f8c026ff-0495-4c74-9499-59101132a99c",
   "metadata": {},
   "source": [
    "# Projeto 3: Pegando cotações ao vivo da B3.\n",
    "\n",
    "### Desafio:\n",
    "\n",
    "* Construir um código que se conecte direto na bolsa e pegue informações ao vivo.\n",
    "   \n",
    "### Passo a passo do código? \n",
    "\n",
    "   **Passo 1** - Baixar e configurar o MetaTrader pra sua conta em uma corretora.\n",
    "\n",
    "   **Passo 2** - Importar as bibliotecas. \n",
    "\n",
    "   **Passo 3** - Inicializar o MetaTrader. \n",
    "\n",
    "   **Passo 4** - Pegar e selecionar os símbolos disponíveis.\n",
    "    \n",
    "   **Passo 5** - Pegar as cotações ao vivo."
   ]
  },
  {
   "cell_type": "markdown",
   "id": "e69b99e7-3435-4883-9f42-c3dd53d46bfb",
   "metadata": {},
   "source": [
    "# Passo 2 - Importar as bibliotecas."
   ]
  },
  {
   "cell_type": "code",
   "execution_count": null,
   "id": "f4bbfd84-e33c-4229-9150-93c4af83ea2d",
   "metadata": {},
   "outputs": [],
   "source": [
    "!pip install MetaTrader5"
   ]
  },
  {
   "cell_type": "code",
   "execution_count": null,
   "id": "fe25b733-933c-413a-9898-2ffb6393d263",
   "metadata": {},
   "outputs": [],
   "source": [
    "import MetaTrader5 as mt5\n",
    "import time"
   ]
  },
  {
   "cell_type": "markdown",
   "id": "6f6c3eb8-07d8-447c-9049-6a2590b05fa0",
   "metadata": {},
   "source": [
    "# Passo 3 Iniciar o metatrader"
   ]
  },
  {
   "cell_type": "code",
   "execution_count": null,
   "id": "d500ba97-a04d-4113-85ea-3554f4f14a97",
   "metadata": {},
   "outputs": [],
   "source": [
    "mt5.initialize()"
   ]
  },
  {
   "cell_type": "markdown",
   "id": "06a7cbeb-20f4-4c68-9c74-e7d1c3e408d6",
   "metadata": {},
   "source": [
    "# Passo 4 - Pegar e selecionar os símbolos disponíveis"
   ]
  },
  {
   "cell_type": "code",
   "execution_count": null,
   "id": "a6cbd8a6-1667-479f-b77b-94284a608798",
   "metadata": {},
   "outputs": [],
   "source": [
    "simbolos = mt5.symbols_get()\n",
    "\n",
    "simbolos"
   ]
  },
  {
   "cell_type": "code",
   "execution_count": null,
   "id": "1c80aa32-b8ec-4c0d-b7ae-e404c134e4a5",
   "metadata": {},
   "outputs": [],
   "source": [
    "len(simbolos)"
   ]
  },
  {
   "cell_type": "code",
   "execution_count": null,
   "id": "d151b3e9-bcd8-4281-8681-dfc817c19a99",
   "metadata": {},
   "outputs": [],
   "source": [
    "mt5.symbol_select(\"EGIE3\")"
   ]
  },
  {
   "cell_type": "markdown",
   "id": "5a224248-7cde-4198-8247-5e2844a050d8",
   "metadata": {},
   "source": [
    "# Passo 5 - Pegando cotações e retorno ao vivo"
   ]
  },
  {
   "cell_type": "code",
   "execution_count": null,
   "id": "a65bec6a-49f8-4f4e-89cf-14cf6d61cdf4",
   "metadata": {},
   "outputs": [],
   "source": [
    "preco_em_tempo_real = mt5.symbol_info(\"PETR4\").last\n",
    "retorno_em_tempo_real = mt5.symbol_info(\"PETR4\").price_change\n",
    "\n",
    "preco_em_tempo_real"
   ]
  },
  {
   "cell_type": "code",
   "execution_count": null,
   "id": "c9725d22-d917-4c17-879b-477598b05797",
   "metadata": {},
   "outputs": [],
   "source": [
    "tempo = time.time() + 10\n",
    "\n",
    "while time.time() < tempo:\n",
    "\n",
    "    tick = mt5.symbol_info_tick(\"PETR4\")\n",
    "    print(f\"O fechamento é {tick.last}\")\n",
    "    print(f\"O valor de compra é {tick.ask}\")\n",
    "    print(f\"O valor de venda é {tick.bid}\")\n",
    "    print(\"------------------\")\n",
    "    time.sleep(1)\n",
    "\n",
    "    "
   ]
  },
  {
   "cell_type": "code",
   "execution_count": null,
   "id": "cb9e0411-5a94-4997-bdfc-c7e345013407",
   "metadata": {},
   "outputs": [],
   "source": []
  },
  {
   "cell_type": "code",
   "execution_count": null,
   "id": "b15b681c-876d-4358-8d67-8ad4e437ff75",
   "metadata": {},
   "outputs": [],
   "source": []
  },
  {
   "cell_type": "code",
   "execution_count": null,
   "id": "82e2beea-f07c-4ec6-89e1-f29d19c756e3",
   "metadata": {},
   "outputs": [],
   "source": []
  },
  {
   "cell_type": "code",
   "execution_count": null,
   "id": "51a56a85-14a2-450a-b18d-5024ebf0194f",
   "metadata": {},
   "outputs": [],
   "source": []
  }
 ],
 "metadata": {
  "kernelspec": {
   "display_name": "Python 3 (ipykernel)",
   "language": "python",
   "name": "python3"
  },
  "language_info": {
   "codemirror_mode": {
    "name": "ipython",
    "version": 3
   },
   "file_extension": ".py",
   "mimetype": "text/x-python",
   "name": "python",
   "nbconvert_exporter": "python",
   "pygments_lexer": "ipython3",
   "version": "3.11.7"
  }
 },
 "nbformat": 4,
 "nbformat_minor": 5
}
