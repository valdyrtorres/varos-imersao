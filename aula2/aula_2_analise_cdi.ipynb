{
 "cells": [
  {
   "cell_type": "markdown",
   "id": "c1b88f28-9241-4d54-87fc-39035caa3b01",
   "metadata": {},
   "source": [
    "# Projeto 2: Análise CDI\n",
    "\n",
    "### Desafio:\n",
    "\n",
    "* Análise de rentabilidade do CDI, pegando dados direto do Banco Central, criando uma calculadora de retorno desde 1994 e avaliando janelas de retornos.\n",
    "\n",
    "----------------------------------------------"
   ]
  },
  {
   "cell_type": "markdown",
   "id": "7d7980af-7343-403e-bb53-6fe0b20dce87",
   "metadata": {},
   "source": [
    "\n",
    "## Questão 1\n",
    "\n",
    "O fundo mais lucrativo da principal empresa de gestão de ativos de Gotham City segue uma regra simples: o lucro é o juro composto calculado com a taxa de juros SELIC. Seu desafio é criar um programa que calcule uma série que contenha o lucro total, dado um valor inicial de capital em um determinado período de tempo (data de início, data de término) com diferentes frequências (frequência). Sua solução deve seguir as restrições abaixo:\n",
    "\n",
    "* A data de início deve ser maior ou igual a 1995-01-01.\n",
    "* A data de término deve ser posterior à data de início.\n",
    "* A frequência deve ser: dia, mês ou ano.\n",
    "\n",
    "### Passo a passo:\n",
    "\n",
    "*   **Passo 1** - Instalar e importar os módulos e bibliotecas.\n",
    "   \n",
    "   \n",
    "*   **Passo 2** - Coletar dados do usuário.\n",
    "   \n",
    "   \n",
    "*   **Passo 3** - Tratar dados coletados.\n",
    "   \n",
    "   \n",
    "*   **Passo 4** - Pegar dados da SELIC do banco central.\n",
    "   \n",
    "   \n",
    "*   **Passo 5** - Calcular retorno do período.\n",
    "   \n",
    "-------------------\n",
    "\n",
    "## Questão 2\n",
    "\n",
    "\n",
    "Depois de desenvolver sua solução, responda a esta pergunta:\n",
    "\n",
    "Qual foi o período mais lucrativo de 500 dias corridos desde 2000-01-01 até 2022-03-31? Ou seja, se você tivesse que investir um valor C de capital por 500 dias, qual teria sido o período mais lucrativo desde o início de 2000 até o final de março de 2022? Sua resposta deve ser as datas de início e término do período encontrado.\n",
    "\n",
    "### Passo a passo:\n",
    "\n",
    "*   **Passo 1** - Filtrar dados da selic no período da questão. \n",
    "   \n",
    "   \n",
    "*   **Passo 2** - Calcular rentabilidade das janelas de 500 dias.\n",
    "   \n",
    "   \n",
    "*   **Passo 3** - Criar range de datas na tabela.\n",
    "   \n",
    "   \n",
    "*   **Passo 4** - Pegar o maior retorno da tabela."
   ]
  },
  {
   "cell_type": "markdown",
   "id": "1b142832-8a78-4c5d-99ad-362a2b634e3d",
   "metadata": {},
   "source": [
    "# Questão 1"
   ]
  },
  {
   "cell_type": "markdown",
   "id": "494551de-1a7c-46e9-84df-0e9df76c7465",
   "metadata": {},
   "source": [
    "# Passo 1 - Instalar e importar os módulos e bibliotecas."
   ]
  },
  {
   "cell_type": "code",
   "execution_count": null,
   "id": "39a742b6-1e47-4ab0-93fa-6a29adbc48b1",
   "metadata": {},
   "outputs": [],
   "source": [
    "!pip install python-bcb"
   ]
  },
  {
   "cell_type": "code",
   "execution_count": null,
   "id": "c4d7c1b0-f391-4e5e-a81f-d62ca6c36e6a",
   "metadata": {},
   "outputs": [],
   "source": [
    "from datetime import datetime, date\n",
    "from matplotlib import pyplot as plt\n",
    "import numpy as np\n",
    "from bcb import sgs"
   ]
  },
  {
   "cell_type": "markdown",
   "id": "63436758-bb2e-4ae4-8224-c56e4f821ece",
   "metadata": {},
   "source": [
    "# Passo 2 - Coletar dados do usuário."
   ]
  },
  {
   "cell_type": "code",
   "execution_count": null,
   "id": "83c4f213-d232-4a54-a4e4-8c80aa2f262f",
   "metadata": {},
   "outputs": [],
   "source": [
    "capital = float(input(\"Digite o capital investido: \"))\n",
    "frequencia = input(\"Digite a frequência do período (Y, M, D): \")\n",
    "inicio = input(\"Digite a data inicial maior do que 1995/01/01 no formato YYYY/MM/DD: \")\n",
    "final = input(\"Digite a data final no seguinte formato YYYY/MM/DD: \")"
   ]
  },
  {
   "cell_type": "code",
   "execution_count": null,
   "id": "5e335266-8748-4b1a-9f84-2d852373770b",
   "metadata": {},
   "outputs": [],
   "source": [
    "frequencia"
   ]
  },
  {
   "cell_type": "markdown",
   "id": "77ea9712-6afa-495a-8482-7c0d493647dd",
   "metadata": {},
   "source": [
    "# Passo 3 - Tratar dados coletados."
   ]
  },
  {
   "cell_type": "code",
   "execution_count": null,
   "id": "8eec088e-5502-43c8-83a5-ffdd95918cc9",
   "metadata": {},
   "outputs": [],
   "source": [
    "data_inicial = datetime.strptime(inicio, \"%Y/%m/%d\").date()\n",
    "data_final = datetime.strptime(final, \"%Y/%m/%d\").date()\n",
    "\n",
    "data_inicial"
   ]
  },
  {
   "cell_type": "markdown",
   "id": "834aa616-acd5-4da1-a68c-8fcb9fc221f1",
   "metadata": {},
   "source": [
    "# Passo 4 - Pegar dados da SELIC do banco central."
   ]
  },
  {
   "cell_type": "code",
   "execution_count": null,
   "id": "d72cc98e-bbe5-4d74-af36-c121592ece6d",
   "metadata": {},
   "outputs": [],
   "source": [
    "taxas_selic = sgs.get({\"selic\": 11}, start = data_inicial, end = data_final)\n",
    "\n",
    "taxas_selic"
   ]
  },
  {
   "cell_type": "code",
   "execution_count": null,
   "id": "f00e6c34-9f54-45dc-aae7-4bd70fcac006",
   "metadata": {},
   "outputs": [],
   "source": [
    "taxas_selic = taxas_selic/100\n",
    "\n",
    "taxas_selic"
   ]
  },
  {
   "cell_type": "markdown",
   "id": "44f0dd68-d1e9-4274-8762-c341ec377532",
   "metadata": {},
   "source": [
    "# Passo 5 - Calcular retorno do período."
   ]
  },
  {
   "cell_type": "code",
   "execution_count": null,
   "id": "5ac83b4f-505d-490e-bedc-c5506d7f4278",
   "metadata": {},
   "outputs": [],
   "source": [
    "capital_acumulado = capital * (1 + taxas_selic[\"selic\"]).cumprod() - 1\n",
    "\n",
    "capital_acumulado"
   ]
  },
  {
   "cell_type": "code",
   "execution_count": null,
   "id": "329c09d4-cb34-48bd-8b7d-154fc6cdf21a",
   "metadata": {},
   "outputs": [],
   "source": [
    "capital_com_frequencia = capital_acumulado.resample(frequencia).last()\n",
    "\n",
    "capital_com_frequencia"
   ]
  },
  {
   "cell_type": "markdown",
   "id": "de42a7de-0417-4b70-9654-18f9aee2f251",
   "metadata": {},
   "source": [
    "# Questão 2\n",
    "\n",
    "# Passo 1 - Filtrar dados da selic no período da questão. "
   ]
  },
  {
   "cell_type": "code",
   "execution_count": null,
   "id": "d3a3bcf9-4d19-4523-b199-3e25679eb6a0",
   "metadata": {},
   "outputs": [],
   "source": [
    "data_inicial_2 = date(2000, 1, 1)\n",
    "data_final_2 = date(2022, 3, 31)"
   ]
  },
  {
   "cell_type": "code",
   "execution_count": null,
   "id": "e4431aee-baec-401b-9259-bdc6bd3dee57",
   "metadata": {},
   "outputs": [],
   "source": [
    "selic_questao_2 = sgs.get({\"selic\": 11}, start = data_inicial_2, end = data_final_2)/100\n",
    "\n",
    "selic_questao_2"
   ]
  },
  {
   "cell_type": "markdown",
   "id": "d34247b3-d7db-40c9-906a-7265bbce718c",
   "metadata": {},
   "source": [
    "# Passo 2 - Calcular rentabilidade das janelas de 500 dias."
   ]
  },
  {
   "cell_type": "code",
   "execution_count": null,
   "id": "ebb0115e-2d8e-46d7-9d7a-0e190c312c49",
   "metadata": {},
   "outputs": [],
   "source": [
    "janelas_500_dias = ((1 + selic_questao_2).rolling(window = 500).apply(np.prod) - 1)\n",
    "\n",
    "janelas_500_dias"
   ]
  },
  {
   "cell_type": "code",
   "execution_count": null,
   "id": "6fcdbef4-3925-4c2f-9776-529c70dc1f58",
   "metadata": {},
   "outputs": [],
   "source": [
    "janelas_500_dias = janelas_500_dias.reset_index()\n",
    "\n",
    "janelas_500_dias"
   ]
  },
  {
   "cell_type": "markdown",
   "id": "c7cec3ea-fd1b-4c98-87ce-f7add226bfda",
   "metadata": {},
   "source": [
    "# Passo 3 - Criar range de datas na tabela."
   ]
  },
  {
   "cell_type": "code",
   "execution_count": null,
   "id": "870bfe4c-076f-4f63-9030-b223fe853d97",
   "metadata": {},
   "outputs": [],
   "source": [
    "janelas_500_dias[\"data_inicial\"] = janelas_500_dias[\"Date\"].shift(500)\n",
    "\n",
    "janelas_500_dias"
   ]
  },
  {
   "cell_type": "code",
   "execution_count": null,
   "id": "6d6106c5-2b51-4276-b074-82762ab57cb0",
   "metadata": {},
   "outputs": [],
   "source": [
    "janelas_500_dias = janelas_500_dias.dropna()\n",
    "\n",
    "janelas_500_dias"
   ]
  },
  {
   "cell_type": "code",
   "execution_count": null,
   "id": "0a5fc352-74fc-47f1-9810-5bd0c506825a",
   "metadata": {
    "scrolled": true
   },
   "outputs": [],
   "source": [
    "janelas_500_dias.columns = [\"data_final\", \"retorno_selic_500d\", \"data_inicial\"]\n",
    "\n",
    "janelas_500_dias"
   ]
  },
  {
   "cell_type": "markdown",
   "id": "f8082fb7-bd5f-4ae7-a5aa-87c7777f078f",
   "metadata": {},
   "source": [
    "# Passo 4 - Pegar o maior retorno da tabela."
   ]
  },
  {
   "cell_type": "code",
   "execution_count": null,
   "id": "384b5979-4d5c-474b-bc87-eed71024f65d",
   "metadata": {},
   "outputs": [],
   "source": [
    "maior_retorno = janelas_500_dias[\"retorno_selic_500d\"].max()\n",
    "\n",
    "maior_retorno"
   ]
  },
  {
   "cell_type": "code",
   "execution_count": null,
   "id": "c71c32d4-c333-42b4-8dcf-b2bc31b0dbd6",
   "metadata": {},
   "outputs": [],
   "source": [
    "gabarito = janelas_500_dias[janelas_500_dias[\"retorno_selic_500d\"] == maior_retorno]\n",
    "\n",
    "gabarito"
   ]
  },
  {
   "cell_type": "code",
   "execution_count": null,
   "id": "9efe2e8f-8794-4199-96da-fd59296d4f05",
   "metadata": {},
   "outputs": [],
   "source": []
  },
  {
   "cell_type": "code",
   "execution_count": null,
   "id": "e2a70604-5029-46cd-9cc8-294b6d33dcf8",
   "metadata": {},
   "outputs": [],
   "source": []
  },
  {
   "cell_type": "code",
   "execution_count": null,
   "id": "6b6477d6-5875-435a-a3cc-8bf0b238a02c",
   "metadata": {},
   "outputs": [],
   "source": []
  },
  {
   "cell_type": "code",
   "execution_count": null,
   "id": "2126f3a4-e506-42f0-b8e4-708f4e42756c",
   "metadata": {},
   "outputs": [],
   "source": []
  },
  {
   "cell_type": "code",
   "execution_count": null,
   "id": "e582580f-eb22-4625-a8d2-654b9a008507",
   "metadata": {},
   "outputs": [],
   "source": []
  },
  {
   "cell_type": "code",
   "execution_count": null,
   "id": "b895e0fe-1ae5-49b8-8427-9ad7fad79a11",
   "metadata": {},
   "outputs": [],
   "source": []
  },
  {
   "cell_type": "code",
   "execution_count": null,
   "id": "2ed0da3e-a80b-4ef2-9260-80e48af9c4de",
   "metadata": {},
   "outputs": [],
   "source": []
  },
  {
   "cell_type": "code",
   "execution_count": null,
   "id": "423ef61e-246f-4686-84e0-dcdd56b9e239",
   "metadata": {},
   "outputs": [],
   "source": []
  },
  {
   "cell_type": "code",
   "execution_count": null,
   "id": "e7bbccbc-b153-4d39-800a-d4db0c34f331",
   "metadata": {},
   "outputs": [],
   "source": []
  },
  {
   "cell_type": "code",
   "execution_count": null,
   "id": "584f8339-c20f-4554-bea1-753a64b0c486",
   "metadata": {},
   "outputs": [],
   "source": []
  },
  {
   "cell_type": "code",
   "execution_count": null,
   "id": "b2872385-44ca-4bed-aa6f-6f1a988685cf",
   "metadata": {},
   "outputs": [],
   "source": []
  },
  {
   "cell_type": "code",
   "execution_count": null,
   "id": "2f6f63bb-9538-4ac7-bfd4-da37b1da6c48",
   "metadata": {},
   "outputs": [],
   "source": []
  },
  {
   "cell_type": "code",
   "execution_count": null,
   "id": "0e4e0bb3-6a7c-4470-9df4-f72390439455",
   "metadata": {},
   "outputs": [],
   "source": []
  },
  {
   "cell_type": "code",
   "execution_count": null,
   "id": "8d6209a4-8a3c-4ac3-9f5f-00fa95269925",
   "metadata": {},
   "outputs": [],
   "source": []
  },
  {
   "cell_type": "code",
   "execution_count": null,
   "id": "3a30a7d7-493e-4b3c-aed5-8fbd516b365f",
   "metadata": {},
   "outputs": [],
   "source": []
  },
  {
   "cell_type": "code",
   "execution_count": null,
   "id": "32009cf9-9b35-426e-92ee-85c83597e52e",
   "metadata": {},
   "outputs": [],
   "source": []
  },
  {
   "cell_type": "code",
   "execution_count": null,
   "id": "fe29b8e2-bff2-4feb-b315-614792c47618",
   "metadata": {},
   "outputs": [],
   "source": []
  },
  {
   "cell_type": "code",
   "execution_count": null,
   "id": "9900eb6a-b924-4477-8d18-9d35af9080b9",
   "metadata": {},
   "outputs": [],
   "source": []
  },
  {
   "cell_type": "code",
   "execution_count": null,
   "id": "240dcdc5-95a4-4837-b817-e6a3a58e9c98",
   "metadata": {},
   "outputs": [],
   "source": []
  },
  {
   "cell_type": "code",
   "execution_count": null,
   "id": "009beaff-5a7b-4a6d-bb5e-5d7ff068740b",
   "metadata": {},
   "outputs": [],
   "source": []
  },
  {
   "cell_type": "code",
   "execution_count": null,
   "id": "af878f3e-08b0-4f49-9b0d-c5f290088b8b",
   "metadata": {},
   "outputs": [],
   "source": []
  },
  {
   "cell_type": "code",
   "execution_count": null,
   "id": "2854c9f0-5556-48ef-8ebb-2ea763a26534",
   "metadata": {},
   "outputs": [],
   "source": []
  },
  {
   "cell_type": "code",
   "execution_count": null,
   "id": "b6a8d56d-b59b-4c51-99b1-c4e3a6a4bac9",
   "metadata": {},
   "outputs": [],
   "source": []
  },
  {
   "cell_type": "code",
   "execution_count": null,
   "id": "1e09a4b1-2d38-4f80-a455-ee31f8c5d639",
   "metadata": {},
   "outputs": [],
   "source": []
  },
  {
   "cell_type": "code",
   "execution_count": null,
   "id": "72927261-079e-4905-b5ac-a9c7381e8e27",
   "metadata": {},
   "outputs": [],
   "source": []
  },
  {
   "cell_type": "code",
   "execution_count": null,
   "id": "873490ee-9a99-4848-a14c-59abf0614718",
   "metadata": {},
   "outputs": [],
   "source": []
  },
  {
   "cell_type": "code",
   "execution_count": null,
   "id": "285e9e9e-7064-4fa2-9ef2-544dc1c96b34",
   "metadata": {},
   "outputs": [],
   "source": []
  },
  {
   "cell_type": "code",
   "execution_count": null,
   "id": "143c0e8d-58cc-4c8a-b5ca-b47703fb2f4a",
   "metadata": {},
   "outputs": [],
   "source": []
  },
  {
   "cell_type": "code",
   "execution_count": null,
   "id": "c134ef6a-71f0-4d2c-8cb8-f9d233c27f2e",
   "metadata": {},
   "outputs": [],
   "source": []
  },
  {
   "cell_type": "code",
   "execution_count": null,
   "id": "401efc0b-9c79-4528-b960-292ba2a76533",
   "metadata": {},
   "outputs": [],
   "source": []
  },
  {
   "cell_type": "code",
   "execution_count": null,
   "id": "0dd36c13-2164-4f63-b3e6-b5e31de9f323",
   "metadata": {},
   "outputs": [],
   "source": []
  },
  {
   "cell_type": "code",
   "execution_count": null,
   "id": "b17716ea-105a-4aee-ac26-869ad7163980",
   "metadata": {},
   "outputs": [],
   "source": []
  },
  {
   "cell_type": "code",
   "execution_count": null,
   "id": "e76aeb88-5a4a-4efb-b7bb-c0445e9a0fee",
   "metadata": {},
   "outputs": [],
   "source": []
  },
  {
   "cell_type": "code",
   "execution_count": null,
   "id": "278c6be6-6ca8-4ee0-a381-3be3b2067bbb",
   "metadata": {},
   "outputs": [],
   "source": []
  },
  {
   "cell_type": "code",
   "execution_count": null,
   "id": "3ac58452-d364-4bb3-98ae-0d36e236681f",
   "metadata": {},
   "outputs": [],
   "source": []
  },
  {
   "cell_type": "code",
   "execution_count": null,
   "id": "7809f2aa-8bf3-48fe-9a37-f15214749ed3",
   "metadata": {},
   "outputs": [],
   "source": []
  },
  {
   "cell_type": "code",
   "execution_count": null,
   "id": "c2511551-ca9c-4860-909b-f054e928a698",
   "metadata": {},
   "outputs": [],
   "source": []
  },
  {
   "cell_type": "code",
   "execution_count": null,
   "id": "49c94f5f-1ca2-41a4-bd8f-9efaaed390ee",
   "metadata": {},
   "outputs": [],
   "source": []
  },
  {
   "cell_type": "code",
   "execution_count": null,
   "id": "5fe8e906-c4e6-4179-aedd-d1013f2ff366",
   "metadata": {},
   "outputs": [],
   "source": []
  }
 ],
 "metadata": {
  "kernelspec": {
   "display_name": "Python 3 (ipykernel)",
   "language": "python",
   "name": "python3"
  },
  "language_info": {
   "codemirror_mode": {
    "name": "ipython",
    "version": 3
   },
   "file_extension": ".py",
   "mimetype": "text/x-python",
   "name": "python",
   "nbconvert_exporter": "python",
   "pygments_lexer": "ipython3",
   "version": "3.11.7"
  },
  "widgets": {
   "application/vnd.jupyter.widget-state+json": {
    "state": {},
    "version_major": 2,
    "version_minor": 0
   }
  }
 },
 "nbformat": 4,
 "nbformat_minor": 5
}
